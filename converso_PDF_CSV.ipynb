{
  "nbformat": 4,
  "nbformat_minor": 0,
  "metadata": {
    "colab": {
      "provenance": [],
      "authorship_tag": "ABX9TyOt1tEaxV26w+L+vff+BOs7",
      "include_colab_link": true
    },
    "kernelspec": {
      "name": "python3",
      "display_name": "Python 3"
    },
    "language_info": {
      "name": "python"
    }
  },
  "cells": [
    {
      "cell_type": "markdown",
      "metadata": {
        "id": "view-in-github",
        "colab_type": "text"
      },
      "source": [
        "<a href=\"https://colab.research.google.com/github/raja-khalil/Python-training/blob/main/converso_PDF_CSV.ipynb\" target=\"_parent\"><img src=\"https://colab.research.google.com/assets/colab-badge.svg\" alt=\"Open In Colab\"/></a>"
      ]
    },
    {
      "cell_type": "code",
      "source": [
        "# Instalar bibliotecas necessárias\n",
        "!pip install PyMuPDF pandas\n",
        "\n",
        "import fitz  # PyMuPDF\n",
        "import pandas as pd\n",
        "\n",
        "# Função para converter PDF em CSV\n",
        "def pdf_para_csv(caminho_pdf, caminho_csv):\n",
        "    \"\"\"\n",
        "    Converte um arquivo PDF em CSV.\n",
        "    :param caminho_pdf: str - Caminho para o arquivo PDF.\n",
        "    :param caminho_csv: str - Caminho para salvar o arquivo CSV.\n",
        "    \"\"\"\n",
        "    # Abrir o arquivo PDF\n",
        "    documento = fitz.open(caminho_pdf)\n",
        "    # Extrair texto do PDF\n",
        "    linhas = []\n",
        "    for pagina in documento:\n",
        "        linhas.extend(pagina.get_text(\"text\").split(\"\\n\"))\n",
        "\n",
        "    # Escrever o texto extraído em um arquivo CSV\n",
        "    with open(caminho_csv, 'w', encoding='utf-8') as arquivo_csv:\n",
        "        for linha in linhas:\n",
        "            arquivo_csv.write(f\"{linha}\\n\")\n",
        "\n",
        "# Função principal para rodar o módulo\n",
        "def main():\n",
        "    \"\"\"\n",
        "    Função principal para rodar a conversão de PDF para CSV.\n",
        "    \"\"\"\n",
        "    # Caminho do arquivo PDF\n",
        "    caminho_pdf = '/content/arquivo.pdf'  # Atualize para o caminho do seu arquivo PDF\n",
        "    caminho_csv = '/content/arquivo.csv'  # Local onde o arquivo CSV será salvo\n",
        "\n",
        "    # Converter PDF para CSV\n",
        "    pdf_para_csv(caminho_pdf, caminho_csv)\n",
        "    print(f\"Arquivo CSV salvo em: {caminho_csv}\")\n",
        "\n",
        "    # Baixar o arquivo CSV\n",
        "    from google.colab import files\n",
        "    files.download(caminho_csv)\n",
        "\n",
        "# Executar a função principal\n",
        "if __name__ == \"__main__\":\n",
        "    main()\n",
        "\n",
        "\n",
        "\n"
      ],
      "metadata": {
        "colab": {
          "base_uri": "https://localhost:8080/",
          "height": 176
        },
        "id": "YNL04-xxWAiG",
        "outputId": "fa25fd36-7fd0-468a-c143-fc8e632a285d"
      },
      "execution_count": 14,
      "outputs": [
        {
          "output_type": "stream",
          "name": "stdout",
          "text": [
            "Requirement already satisfied: PyMuPDF in /usr/local/lib/python3.11/dist-packages (1.25.3)\n",
            "Requirement already satisfied: pandas in /usr/local/lib/python3.11/dist-packages (2.2.3)\n",
            "Requirement already satisfied: numpy>=1.23.2 in /usr/local/lib/python3.11/dist-packages (from pandas) (1.26.4)\n",
            "Requirement already satisfied: python-dateutil>=2.8.2 in /usr/local/lib/python3.11/dist-packages (from pandas) (2.8.2)\n",
            "Requirement already satisfied: pytz>=2020.1 in /usr/local/lib/python3.11/dist-packages (from pandas) (2025.1)\n",
            "Requirement already satisfied: tzdata>=2022.7 in /usr/local/lib/python3.11/dist-packages (from pandas) (2025.1)\n",
            "Requirement already satisfied: six>=1.5 in /usr/local/lib/python3.11/dist-packages (from python-dateutil>=2.8.2->pandas) (1.17.0)\n",
            "Arquivo CSV salvo em: /content/arquivo.csv\n"
          ]
        },
        {
          "output_type": "display_data",
          "data": {
            "text/plain": [
              "<IPython.core.display.Javascript object>"
            ],
            "application/javascript": [
              "\n",
              "    async function download(id, filename, size) {\n",
              "      if (!google.colab.kernel.accessAllowed) {\n",
              "        return;\n",
              "      }\n",
              "      const div = document.createElement('div');\n",
              "      const label = document.createElement('label');\n",
              "      label.textContent = `Downloading \"${filename}\": `;\n",
              "      div.appendChild(label);\n",
              "      const progress = document.createElement('progress');\n",
              "      progress.max = size;\n",
              "      div.appendChild(progress);\n",
              "      document.body.appendChild(div);\n",
              "\n",
              "      const buffers = [];\n",
              "      let downloaded = 0;\n",
              "\n",
              "      const channel = await google.colab.kernel.comms.open(id);\n",
              "      // Send a message to notify the kernel that we're ready.\n",
              "      channel.send({})\n",
              "\n",
              "      for await (const message of channel.messages) {\n",
              "        // Send a message to notify the kernel that we're ready.\n",
              "        channel.send({})\n",
              "        if (message.buffers) {\n",
              "          for (const buffer of message.buffers) {\n",
              "            buffers.push(buffer);\n",
              "            downloaded += buffer.byteLength;\n",
              "            progress.value = downloaded;\n",
              "          }\n",
              "        }\n",
              "      }\n",
              "      const blob = new Blob(buffers, {type: 'application/binary'});\n",
              "      const a = document.createElement('a');\n",
              "      a.href = window.URL.createObjectURL(blob);\n",
              "      a.download = filename;\n",
              "      div.appendChild(a);\n",
              "      a.click();\n",
              "      div.remove();\n",
              "    }\n",
              "  "
            ]
          },
          "metadata": {}
        },
        {
          "output_type": "display_data",
          "data": {
            "text/plain": [
              "<IPython.core.display.Javascript object>"
            ],
            "application/javascript": [
              "download(\"download_234e79a5-2e8d-452e-81ae-c5217b818038\", \"arquivo.csv\", 951164)"
            ]
          },
          "metadata": {}
        }
      ]
    }
  ]
}