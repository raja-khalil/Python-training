{
  "nbformat": 4,
  "nbformat_minor": 0,
  "metadata": {
    "colab": {
      "provenance": [],
      "authorship_tag": "ABX9TyNEwMA3zA4V/NxuWvPaprc6",
      "include_colab_link": true
    },
    "kernelspec": {
      "name": "python3",
      "display_name": "Python 3"
    },
    "language_info": {
      "name": "python"
    }
  },
  "cells": [
    {
      "cell_type": "markdown",
      "metadata": {
        "id": "view-in-github",
        "colab_type": "text"
      },
      "source": [
        "<a href=\"https://colab.research.google.com/github/raja-khalil/Python-training/blob/main/converso_PDF_Exel.ipynb\" target=\"_parent\"><img src=\"https://colab.research.google.com/assets/colab-badge.svg\" alt=\"Open In Colab\"/></a>"
      ]
    },
    {
      "cell_type": "code",
      "execution_count": 2,
      "metadata": {
        "colab": {
          "base_uri": "https://localhost:8080/",
          "height": 468
        },
        "id": "9umE9FFoai-e",
        "outputId": "9550f5ae-1d5c-46d8-b46f-73c7cc280fe4"
      },
      "outputs": [
        {
          "output_type": "stream",
          "name": "stdout",
          "text": [
            "Requirement already satisfied: PyMuPDF in /usr/local/lib/python3.11/dist-packages (1.25.3)\n",
            "Requirement already satisfied: pandas in /usr/local/lib/python3.11/dist-packages (2.2.2)\n",
            "Requirement already satisfied: openpyxl in /usr/local/lib/python3.11/dist-packages (3.1.5)\n",
            "Requirement already satisfied: gdown in /usr/local/lib/python3.11/dist-packages (5.2.0)\n",
            "Requirement already satisfied: numpy>=1.23.2 in /usr/local/lib/python3.11/dist-packages (from pandas) (1.26.4)\n",
            "Requirement already satisfied: python-dateutil>=2.8.2 in /usr/local/lib/python3.11/dist-packages (from pandas) (2.8.2)\n",
            "Requirement already satisfied: pytz>=2020.1 in /usr/local/lib/python3.11/dist-packages (from pandas) (2025.1)\n",
            "Requirement already satisfied: tzdata>=2022.7 in /usr/local/lib/python3.11/dist-packages (from pandas) (2025.1)\n",
            "Requirement already satisfied: et-xmlfile in /usr/local/lib/python3.11/dist-packages (from openpyxl) (2.0.0)\n",
            "Requirement already satisfied: beautifulsoup4 in /usr/local/lib/python3.11/dist-packages (from gdown) (4.13.3)\n",
            "Requirement already satisfied: filelock in /usr/local/lib/python3.11/dist-packages (from gdown) (3.17.0)\n",
            "Requirement already satisfied: requests[socks] in /usr/local/lib/python3.11/dist-packages (from gdown) (2.32.3)\n",
            "Requirement already satisfied: tqdm in /usr/local/lib/python3.11/dist-packages (from gdown) (4.67.1)\n",
            "Requirement already satisfied: six>=1.5 in /usr/local/lib/python3.11/dist-packages (from python-dateutil>=2.8.2->pandas) (1.17.0)\n",
            "Requirement already satisfied: soupsieve>1.2 in /usr/local/lib/python3.11/dist-packages (from beautifulsoup4->gdown) (2.6)\n",
            "Requirement already satisfied: typing-extensions>=4.0.0 in /usr/local/lib/python3.11/dist-packages (from beautifulsoup4->gdown) (4.12.2)\n",
            "Requirement already satisfied: charset-normalizer<4,>=2 in /usr/local/lib/python3.11/dist-packages (from requests[socks]->gdown) (3.4.1)\n",
            "Requirement already satisfied: idna<4,>=2.5 in /usr/local/lib/python3.11/dist-packages (from requests[socks]->gdown) (3.10)\n",
            "Requirement already satisfied: urllib3<3,>=1.21.1 in /usr/local/lib/python3.11/dist-packages (from requests[socks]->gdown) (2.3.0)\n",
            "Requirement already satisfied: certifi>=2017.4.17 in /usr/local/lib/python3.11/dist-packages (from requests[socks]->gdown) (2025.1.31)\n",
            "Requirement already satisfied: PySocks!=1.5.7,>=1.5.6 in /usr/local/lib/python3.11/dist-packages (from requests[socks]->gdown) (1.7.1)\n"
          ]
        },
        {
          "output_type": "stream",
          "name": "stderr",
          "text": [
            "Downloading...\n",
            "From: https://drive.google.com/uc?id=1eZWNNILHCb0C6pENqDeInsH2sTf9TxbY\n",
            "To: /content/arquivo.pdf\n",
            "100%|██████████| 1.18M/1.18M [00:00<00:00, 17.4MB/s]\n"
          ]
        },
        {
          "output_type": "stream",
          "name": "stdout",
          "text": [
            "Arquivo Excel salvo em: /content/arquivo.xlsx\n"
          ]
        },
        {
          "output_type": "display_data",
          "data": {
            "text/plain": [
              "<IPython.core.display.Javascript object>"
            ],
            "application/javascript": [
              "\n",
              "    async function download(id, filename, size) {\n",
              "      if (!google.colab.kernel.accessAllowed) {\n",
              "        return;\n",
              "      }\n",
              "      const div = document.createElement('div');\n",
              "      const label = document.createElement('label');\n",
              "      label.textContent = `Downloading \"${filename}\": `;\n",
              "      div.appendChild(label);\n",
              "      const progress = document.createElement('progress');\n",
              "      progress.max = size;\n",
              "      div.appendChild(progress);\n",
              "      document.body.appendChild(div);\n",
              "\n",
              "      const buffers = [];\n",
              "      let downloaded = 0;\n",
              "\n",
              "      const channel = await google.colab.kernel.comms.open(id);\n",
              "      // Send a message to notify the kernel that we're ready.\n",
              "      channel.send({})\n",
              "\n",
              "      for await (const message of channel.messages) {\n",
              "        // Send a message to notify the kernel that we're ready.\n",
              "        channel.send({})\n",
              "        if (message.buffers) {\n",
              "          for (const buffer of message.buffers) {\n",
              "            buffers.push(buffer);\n",
              "            downloaded += buffer.byteLength;\n",
              "            progress.value = downloaded;\n",
              "          }\n",
              "        }\n",
              "      }\n",
              "      const blob = new Blob(buffers, {type: 'application/binary'});\n",
              "      const a = document.createElement('a');\n",
              "      a.href = window.URL.createObjectURL(blob);\n",
              "      a.download = filename;\n",
              "      div.appendChild(a);\n",
              "      a.click();\n",
              "      div.remove();\n",
              "    }\n",
              "  "
            ]
          },
          "metadata": {}
        },
        {
          "output_type": "display_data",
          "data": {
            "text/plain": [
              "<IPython.core.display.Javascript object>"
            ],
            "application/javascript": [
              "download(\"download_08413469-fc30-4466-851f-dd8774e72a11\", \"arquivo.xlsx\", 983954)"
            ]
          },
          "metadata": {}
        }
      ],
      "source": [
        "# Instalar bibliotecas necessárias\n",
        "!pip install PyMuPDF pandas openpyxl gdown\n",
        "\n",
        "import fitz  # PyMuPDF\n",
        "import pandas as pd\n",
        "from openpyxl import Workbook\n",
        "import gdown\n",
        "\n",
        "# Função para baixar arquivo do Google Drive\n",
        "def baixar_pdf(id_arquivo, caminho_pdf):\n",
        "    \"\"\"\n",
        "    Baixa um arquivo PDF do Google Drive.\n",
        "    :param id_arquivo: str - ID do arquivo no Google Drive.\n",
        "    :param caminho_pdf: str - Caminho para salvar o arquivo PDF.\n",
        "    \"\"\"\n",
        "    url = f'https://drive.google.com/uc?id={id_arquivo}'\n",
        "    gdown.download(url, caminho_pdf, quiet=False)\n",
        "\n",
        "# Função para converter PDF em Excel\n",
        "def pdf_para_excel(caminho_pdf, caminho_excel):\n",
        "    \"\"\"\n",
        "    Converte um arquivo PDF em Excel.\n",
        "    :param caminho_pdf: str - Caminho para o arquivo PDF.\n",
        "    :param caminho_excel: str - Caminho para salvar o arquivo Excel.\n",
        "    \"\"\"\n",
        "    # Abrir o arquivo PDF\n",
        "    documento = fitz.open(caminho_pdf)\n",
        "    linhas = []\n",
        "    for pagina in documento:\n",
        "        linhas.extend(pagina.get_text(\"text\").split(\"\\n\"))\n",
        "\n",
        "    # Criar uma nova planilha Excel\n",
        "    wb = Workbook()\n",
        "    ws = wb.active\n",
        "\n",
        "    # Adicionar as linhas extraídas do PDF à planilha\n",
        "    for linha in linhas:\n",
        "        colunas = linha.split(\"\\t\")  # Supondo que as colunas estejam separadas por tabulação\n",
        "        ws.append(colunas)\n",
        "\n",
        "    # Salvar o arquivo Excel\n",
        "    wb.save(caminho_excel)\n",
        "\n",
        "# Função principal para rodar a conversão\n",
        "def main():\n",
        "    \"\"\"\n",
        "    Função principal para rodar a conversão de PDF para Excel.\n",
        "    \"\"\"\n",
        "    # ID do arquivo PDF no Google Drive\n",
        "    id_arquivo = '1eZWNNILHCb0C6pENqDeInsH2sTf9TxbY'\n",
        "    caminho_pdf = '/content/arquivo.pdf'\n",
        "    caminho_excel = '/content/arquivo.xlsx'\n",
        "\n",
        "    # Baixar arquivo PDF do Google Drive\n",
        "    baixar_pdf(id_arquivo, caminho_pdf)\n",
        "\n",
        "    # Converter PDF para Excel\n",
        "    pdf_para_excel(caminho_pdf, caminho_excel)\n",
        "    print(f\"Arquivo Excel salvo em: {caminho_excel}\")\n",
        "\n",
        "    # Baixar o arquivo Excel\n",
        "    from google.colab import files\n",
        "    files.download(caminho_excel)\n",
        "\n",
        "# Executar a função principal\n",
        "if __name__ == \"__main__\":\n",
        "    main()\n",
        "\n"
      ]
    }
  ]
}